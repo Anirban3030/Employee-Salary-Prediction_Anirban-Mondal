{
 "cells": [
  {
   "cell_type": "markdown",
   "id": "6d67a10c",
   "metadata": {},
   "source": [
    "Importing necessary modules"
   ]
  },
  {
   "cell_type": "code",
   "execution_count": 1,
   "id": "653d5369",
   "metadata": {},
   "outputs": [],
   "source": [
    "import pandas as pd\n",
    "import numpy as np\n",
    "import seaborn as sns\n",
    "import matplotlib.pyplot as plt"
   ]
  },
  {
   "cell_type": "markdown",
   "id": "8e380f7d",
   "metadata": {},
   "source": [
    "Dataset storing in dataframe \n"
   ]
  },
  {
   "cell_type": "code",
   "execution_count": 5,
   "id": "071e66e3",
   "metadata": {},
   "outputs": [],
   "source": [
    "# Load dataset\n",
    "df = pd.read_csv(\"D:/Projects/Employee Salary Prediction usnig ML/Dataset/Salary_Data.csv\")"
   ]
  },
  {
   "cell_type": "code",
   "execution_count": 7,
   "id": "2d3187b6",
   "metadata": {},
   "outputs": [
    {
     "data": {
      "text/html": [
       "<div>\n",
       "<style scoped>\n",
       "    .dataframe tbody tr th:only-of-type {\n",
       "        vertical-align: middle;\n",
       "    }\n",
       "\n",
       "    .dataframe tbody tr th {\n",
       "        vertical-align: top;\n",
       "    }\n",
       "\n",
       "    .dataframe thead th {\n",
       "        text-align: right;\n",
       "    }\n",
       "</style>\n",
       "<table border=\"1\" class=\"dataframe\">\n",
       "  <thead>\n",
       "    <tr style=\"text-align: right;\">\n",
       "      <th></th>\n",
       "      <th>Age</th>\n",
       "      <th>Gender</th>\n",
       "      <th>Education Level</th>\n",
       "      <th>Job Title</th>\n",
       "      <th>Years of Experience</th>\n",
       "      <th>Salary</th>\n",
       "    </tr>\n",
       "  </thead>\n",
       "  <tbody>\n",
       "    <tr>\n",
       "      <th>0</th>\n",
       "      <td>32.0</td>\n",
       "      <td>Male</td>\n",
       "      <td>Bachelor's</td>\n",
       "      <td>Software Engineer</td>\n",
       "      <td>5.0</td>\n",
       "      <td>90000.0</td>\n",
       "    </tr>\n",
       "    <tr>\n",
       "      <th>1</th>\n",
       "      <td>28.0</td>\n",
       "      <td>Female</td>\n",
       "      <td>Master's</td>\n",
       "      <td>Data Analyst</td>\n",
       "      <td>3.0</td>\n",
       "      <td>65000.0</td>\n",
       "    </tr>\n",
       "    <tr>\n",
       "      <th>2</th>\n",
       "      <td>45.0</td>\n",
       "      <td>Male</td>\n",
       "      <td>PhD</td>\n",
       "      <td>Senior Manager</td>\n",
       "      <td>15.0</td>\n",
       "      <td>150000.0</td>\n",
       "    </tr>\n",
       "    <tr>\n",
       "      <th>3</th>\n",
       "      <td>36.0</td>\n",
       "      <td>Female</td>\n",
       "      <td>Bachelor's</td>\n",
       "      <td>Sales Associate</td>\n",
       "      <td>7.0</td>\n",
       "      <td>60000.0</td>\n",
       "    </tr>\n",
       "    <tr>\n",
       "      <th>4</th>\n",
       "      <td>52.0</td>\n",
       "      <td>Male</td>\n",
       "      <td>Master's</td>\n",
       "      <td>Director</td>\n",
       "      <td>20.0</td>\n",
       "      <td>200000.0</td>\n",
       "    </tr>\n",
       "    <tr>\n",
       "      <th>5</th>\n",
       "      <td>29.0</td>\n",
       "      <td>Male</td>\n",
       "      <td>Bachelor's</td>\n",
       "      <td>Marketing Analyst</td>\n",
       "      <td>2.0</td>\n",
       "      <td>55000.0</td>\n",
       "    </tr>\n",
       "    <tr>\n",
       "      <th>6</th>\n",
       "      <td>42.0</td>\n",
       "      <td>Female</td>\n",
       "      <td>Master's</td>\n",
       "      <td>Product Manager</td>\n",
       "      <td>12.0</td>\n",
       "      <td>120000.0</td>\n",
       "    </tr>\n",
       "    <tr>\n",
       "      <th>7</th>\n",
       "      <td>31.0</td>\n",
       "      <td>Male</td>\n",
       "      <td>Bachelor's</td>\n",
       "      <td>Sales Manager</td>\n",
       "      <td>4.0</td>\n",
       "      <td>80000.0</td>\n",
       "    </tr>\n",
       "    <tr>\n",
       "      <th>8</th>\n",
       "      <td>26.0</td>\n",
       "      <td>Female</td>\n",
       "      <td>Bachelor's</td>\n",
       "      <td>Marketing Coordinator</td>\n",
       "      <td>1.0</td>\n",
       "      <td>45000.0</td>\n",
       "    </tr>\n",
       "    <tr>\n",
       "      <th>9</th>\n",
       "      <td>38.0</td>\n",
       "      <td>Male</td>\n",
       "      <td>PhD</td>\n",
       "      <td>Senior Scientist</td>\n",
       "      <td>10.0</td>\n",
       "      <td>110000.0</td>\n",
       "    </tr>\n",
       "  </tbody>\n",
       "</table>\n",
       "</div>"
      ],
      "text/plain": [
       "    Age  Gender Education Level              Job Title  Years of Experience  \\\n",
       "0  32.0    Male      Bachelor's      Software Engineer                  5.0   \n",
       "1  28.0  Female        Master's           Data Analyst                  3.0   \n",
       "2  45.0    Male             PhD         Senior Manager                 15.0   \n",
       "3  36.0  Female      Bachelor's        Sales Associate                  7.0   \n",
       "4  52.0    Male        Master's               Director                 20.0   \n",
       "5  29.0    Male      Bachelor's      Marketing Analyst                  2.0   \n",
       "6  42.0  Female        Master's        Product Manager                 12.0   \n",
       "7  31.0    Male      Bachelor's          Sales Manager                  4.0   \n",
       "8  26.0  Female      Bachelor's  Marketing Coordinator                  1.0   \n",
       "9  38.0    Male             PhD       Senior Scientist                 10.0   \n",
       "\n",
       "     Salary  \n",
       "0   90000.0  \n",
       "1   65000.0  \n",
       "2  150000.0  \n",
       "3   60000.0  \n",
       "4  200000.0  \n",
       "5   55000.0  \n",
       "6  120000.0  \n",
       "7   80000.0  \n",
       "8   45000.0  \n",
       "9  110000.0  "
      ]
     },
     "execution_count": 7,
     "metadata": {},
     "output_type": "execute_result"
    }
   ],
   "source": [
    "# Display first few rows\n",
    "df.head(10)"
   ]
  },
  {
   "cell_type": "markdown",
   "id": "f009ff4a",
   "metadata": {},
   "source": [
    "Basic Info & Null Checks"
   ]
  },
  {
   "cell_type": "code",
   "execution_count": 8,
   "id": "210e1470",
   "metadata": {},
   "outputs": [
    {
     "name": "stdout",
     "output_type": "stream",
     "text": [
      "Shape: (6704, 6)\n"
     ]
    }
   ],
   "source": [
    "# Dataset shape and types\n",
    "print(\"Shape:\", df.shape)"
   ]
  },
  {
   "cell_type": "code",
   "execution_count": 9,
   "id": "53db03b2",
   "metadata": {},
   "outputs": [
    {
     "name": "stdout",
     "output_type": "stream",
     "text": [
      "\n",
      "Data types:\n",
      " Age                    float64\n",
      "Gender                  object\n",
      "Education Level         object\n",
      "Job Title               object\n",
      "Years of Experience    float64\n",
      "Salary                 float64\n",
      "dtype: object\n"
     ]
    }
   ],
   "source": [
    "print(\"\\nData types:\\n\", df.dtypes)"
   ]
  },
  {
   "cell_type": "code",
   "execution_count": 10,
   "id": "9481cf1d",
   "metadata": {},
   "outputs": [
    {
     "name": "stdout",
     "output_type": "stream",
     "text": [
      "\n",
      "Missing values:\n",
      " Age                    2\n",
      "Gender                 2\n",
      "Education Level        3\n",
      "Job Title              2\n",
      "Years of Experience    3\n",
      "Salary                 5\n",
      "dtype: int64\n"
     ]
    }
   ],
   "source": [
    "# Check for missing values\n",
    "print(\"\\nMissing values:\\n\", df.isnull().sum())"
   ]
  },
  {
   "cell_type": "code",
   "execution_count": 12,
   "id": "d50f13bb",
   "metadata": {},
   "outputs": [
    {
     "name": "stderr",
     "output_type": "stream",
     "text": [
      "C:\\Users\\anirb\\AppData\\Local\\Temp\\ipykernel_18304\\970159117.py:2: FutureWarning: A value is trying to be set on a copy of a DataFrame or Series through chained assignment using an inplace method.\n",
      "The behavior will change in pandas 3.0. This inplace method will never work because the intermediate object on which we are setting values always behaves as a copy.\n",
      "\n",
      "For example, when doing 'df[col].method(value, inplace=True)', try using 'df.method({col: value}, inplace=True)' or df[col] = df[col].method(value) instead, to perform the operation inplace on the original object.\n",
      "\n",
      "\n",
      "  df['Age'].fillna(df['Age'].median(), inplace=True)\n",
      "C:\\Users\\anirb\\AppData\\Local\\Temp\\ipykernel_18304\\970159117.py:3: FutureWarning: A value is trying to be set on a copy of a DataFrame or Series through chained assignment using an inplace method.\n",
      "The behavior will change in pandas 3.0. This inplace method will never work because the intermediate object on which we are setting values always behaves as a copy.\n",
      "\n",
      "For example, when doing 'df[col].method(value, inplace=True)', try using 'df.method({col: value}, inplace=True)' or df[col] = df[col].method(value) instead, to perform the operation inplace on the original object.\n",
      "\n",
      "\n",
      "  df['Years of Experience'].fillna(df['Years of Experience'].median(), inplace=True)\n",
      "C:\\Users\\anirb\\AppData\\Local\\Temp\\ipykernel_18304\\970159117.py:4: FutureWarning: A value is trying to be set on a copy of a DataFrame or Series through chained assignment using an inplace method.\n",
      "The behavior will change in pandas 3.0. This inplace method will never work because the intermediate object on which we are setting values always behaves as a copy.\n",
      "\n",
      "For example, when doing 'df[col].method(value, inplace=True)', try using 'df.method({col: value}, inplace=True)' or df[col] = df[col].method(value) instead, to perform the operation inplace on the original object.\n",
      "\n",
      "\n",
      "  df['Salary'].fillna(df['Salary'].median(), inplace=True)\n"
     ]
    }
   ],
   "source": [
    "# Fill missing numerical columns with median\n",
    "df['Age'].fillna(df['Age'].median(), inplace=True)\n",
    "df['Years of Experience'].fillna(df['Years of Experience'].median(), inplace=True)\n",
    "df['Salary'].fillna(df['Salary'].median(), inplace=True)"
   ]
  },
  {
   "cell_type": "code",
   "execution_count": 13,
   "id": "b512fccb",
   "metadata": {},
   "outputs": [
    {
     "name": "stderr",
     "output_type": "stream",
     "text": [
      "C:\\Users\\anirb\\AppData\\Local\\Temp\\ipykernel_18304\\1861355770.py:2: FutureWarning: A value is trying to be set on a copy of a DataFrame or Series through chained assignment using an inplace method.\n",
      "The behavior will change in pandas 3.0. This inplace method will never work because the intermediate object on which we are setting values always behaves as a copy.\n",
      "\n",
      "For example, when doing 'df[col].method(value, inplace=True)', try using 'df.method({col: value}, inplace=True)' or df[col] = df[col].method(value) instead, to perform the operation inplace on the original object.\n",
      "\n",
      "\n",
      "  df['Gender'].fillna(df['Gender'].mode()[0], inplace=True)\n",
      "C:\\Users\\anirb\\AppData\\Local\\Temp\\ipykernel_18304\\1861355770.py:3: FutureWarning: A value is trying to be set on a copy of a DataFrame or Series through chained assignment using an inplace method.\n",
      "The behavior will change in pandas 3.0. This inplace method will never work because the intermediate object on which we are setting values always behaves as a copy.\n",
      "\n",
      "For example, when doing 'df[col].method(value, inplace=True)', try using 'df.method({col: value}, inplace=True)' or df[col] = df[col].method(value) instead, to perform the operation inplace on the original object.\n",
      "\n",
      "\n",
      "  df['Education Level'].fillna(df['Education Level'].mode()[0], inplace=True)\n",
      "C:\\Users\\anirb\\AppData\\Local\\Temp\\ipykernel_18304\\1861355770.py:4: FutureWarning: A value is trying to be set on a copy of a DataFrame or Series through chained assignment using an inplace method.\n",
      "The behavior will change in pandas 3.0. This inplace method will never work because the intermediate object on which we are setting values always behaves as a copy.\n",
      "\n",
      "For example, when doing 'df[col].method(value, inplace=True)', try using 'df.method({col: value}, inplace=True)' or df[col] = df[col].method(value) instead, to perform the operation inplace on the original object.\n",
      "\n",
      "\n",
      "  df['Job Title'].fillna(df['Job Title'].mode()[0], inplace=True)\n"
     ]
    }
   ],
   "source": [
    "# Fill missing categorical columns with mode (most frequent)\n",
    "df['Gender'].fillna(df['Gender'].mode()[0], inplace=True)\n",
    "df['Education Level'].fillna(df['Education Level'].mode()[0], inplace=True)\n",
    "df['Job Title'].fillna(df['Job Title'].mode()[0], inplace=True)"
   ]
  },
  {
   "cell_type": "code",
   "execution_count": 14,
   "id": "9b7368f6",
   "metadata": {},
   "outputs": [
    {
     "name": "stdout",
     "output_type": "stream",
     "text": [
      "\n",
      "Missing values:\n",
      " Age                    0\n",
      "Gender                 0\n",
      "Education Level        0\n",
      "Job Title              0\n",
      "Years of Experience    0\n",
      "Salary                 0\n",
      "dtype: int64\n"
     ]
    }
   ],
   "source": [
    "print(\"\\nMissing values:\\n\", df.isnull().sum())"
   ]
  },
  {
   "cell_type": "markdown",
   "id": "7d4f35fb",
   "metadata": {},
   "source": [
    "Summary Statistics"
   ]
  },
  {
   "cell_type": "code",
   "execution_count": null,
   "id": "f6fb443d",
   "metadata": {},
   "outputs": [
    {
     "data": {
      "text/html": [
       "<div>\n",
       "<style scoped>\n",
       "    .dataframe tbody tr th:only-of-type {\n",
       "        vertical-align: middle;\n",
       "    }\n",
       "\n",
       "    .dataframe tbody tr th {\n",
       "        vertical-align: top;\n",
       "    }\n",
       "\n",
       "    .dataframe thead th {\n",
       "        text-align: right;\n",
       "    }\n",
       "</style>\n",
       "<table border=\"1\" class=\"dataframe\">\n",
       "  <thead>\n",
       "    <tr style=\"text-align: right;\">\n",
       "      <th></th>\n",
       "      <th>Age</th>\n",
       "      <th>Years of Experience</th>\n",
       "      <th>Salary</th>\n",
       "    </tr>\n",
       "  </thead>\n",
       "  <tbody>\n",
       "    <tr>\n",
       "      <th>count</th>\n",
       "      <td>6702.000000</td>\n",
       "      <td>6701.000000</td>\n",
       "      <td>6699.000000</td>\n",
       "    </tr>\n",
       "    <tr>\n",
       "      <th>mean</th>\n",
       "      <td>33.620859</td>\n",
       "      <td>8.094687</td>\n",
       "      <td>115326.964771</td>\n",
       "    </tr>\n",
       "    <tr>\n",
       "      <th>std</th>\n",
       "      <td>7.614633</td>\n",
       "      <td>6.059003</td>\n",
       "      <td>52786.183911</td>\n",
       "    </tr>\n",
       "    <tr>\n",
       "      <th>min</th>\n",
       "      <td>21.000000</td>\n",
       "      <td>0.000000</td>\n",
       "      <td>350.000000</td>\n",
       "    </tr>\n",
       "    <tr>\n",
       "      <th>25%</th>\n",
       "      <td>28.000000</td>\n",
       "      <td>3.000000</td>\n",
       "      <td>70000.000000</td>\n",
       "    </tr>\n",
       "    <tr>\n",
       "      <th>50%</th>\n",
       "      <td>32.000000</td>\n",
       "      <td>7.000000</td>\n",
       "      <td>115000.000000</td>\n",
       "    </tr>\n",
       "    <tr>\n",
       "      <th>75%</th>\n",
       "      <td>38.000000</td>\n",
       "      <td>12.000000</td>\n",
       "      <td>160000.000000</td>\n",
       "    </tr>\n",
       "    <tr>\n",
       "      <th>max</th>\n",
       "      <td>62.000000</td>\n",
       "      <td>34.000000</td>\n",
       "      <td>250000.000000</td>\n",
       "    </tr>\n",
       "  </tbody>\n",
       "</table>\n",
       "</div>"
      ],
      "text/plain": [
       "               Age  Years of Experience         Salary\n",
       "count  6702.000000          6701.000000    6699.000000\n",
       "mean     33.620859             8.094687  115326.964771\n",
       "std       7.614633             6.059003   52786.183911\n",
       "min      21.000000             0.000000     350.000000\n",
       "25%      28.000000             3.000000   70000.000000\n",
       "50%      32.000000             7.000000  115000.000000\n",
       "75%      38.000000            12.000000  160000.000000\n",
       "max      62.000000            34.000000  250000.000000"
      ]
     },
     "execution_count": 11,
     "metadata": {},
     "output_type": "execute_result"
    }
   ],
   "source": [
    "# Summary statistics for numeric columns\n",
    "df.describe()"
   ]
  },
  {
   "cell_type": "code",
   "execution_count": 16,
   "id": "d45ec4c4",
   "metadata": {},
   "outputs": [
    {
     "name": "stdout",
     "output_type": "stream",
     "text": [
      "Gender:\n",
      " Gender\n",
      "Male      3676\n",
      "Female    3014\n",
      "Other       14\n",
      "Name: count, dtype: int64 \n",
      "\n"
     ]
    }
   ],
   "source": [
    "# Unique values in categorical columns\n",
    "print(\"Gender:\\n\", df['Gender'].value_counts(), \"\\n\")\n",
    "\n"
   ]
  },
  {
   "cell_type": "code",
   "execution_count": 17,
   "id": "2759c188",
   "metadata": {},
   "outputs": [
    {
     "name": "stdout",
     "output_type": "stream",
     "text": [
      "Education Level:\n",
      " Education Level\n",
      "Bachelor's Degree    2270\n",
      "Master's Degree      1573\n",
      "PhD                  1368\n",
      "Bachelor's            756\n",
      "High School           448\n",
      "Master's              288\n",
      "phD                     1\n",
      "Name: count, dtype: int64 \n",
      "\n"
     ]
    }
   ],
   "source": [
    "print(\"Education Level:\\n\", df['Education Level'].value_counts(), \"\\n\")\n"
   ]
  },
  {
   "cell_type": "code",
   "execution_count": 18,
   "id": "2736e427",
   "metadata": {},
   "outputs": [
    {
     "name": "stdout",
     "output_type": "stream",
     "text": [
      "Job Title:\n",
      " Job Title\n",
      "Software Engineer                 520\n",
      "Data Scientist                    453\n",
      "Software Engineer Manager         376\n",
      "Data Analyst                      363\n",
      "Senior Project Engineer           318\n",
      "                                 ... \n",
      "Junior Social Media Specialist      1\n",
      "Senior Software Architect           1\n",
      "Developer                           1\n",
      "Social M                            1\n",
      "Social Media Man                    1\n",
      "Name: count, Length: 193, dtype: int64 \n",
      "\n"
     ]
    }
   ],
   "source": [
    "print(\"Job Title:\\n\", df['Job Title'].value_counts(), \"\\n\")"
   ]
  },
  {
   "cell_type": "markdown",
   "id": "9e427966",
   "metadata": {},
   "source": [
    "Standardize Categorical Text Columns"
   ]
  },
  {
   "cell_type": "code",
   "execution_count": 19,
   "id": "e78bfd94",
   "metadata": {},
   "outputs": [],
   "source": [
    "# Normalize Education Level\n",
    "df['Education Level'] = df['Education Level'].str.lower().str.strip()"
   ]
  },
  {
   "cell_type": "code",
   "execution_count": 20,
   "id": "d411f8fd",
   "metadata": {},
   "outputs": [],
   "source": [
    "# Map common terms to standard labels\n",
    "edu_mapping = {\n",
    "    \"bachelor's degree\": \"bachelor's\",\n",
    "    \"bachelors\": \"bachelor's\",\n",
    "    \"master's degree\": \"master's\",\n",
    "    \"masters\": \"master's\",\n",
    "    \"phd\": \"phd\",\n",
    "    \"ph.d.\": \"phd\",\n",
    "    \"ph.d\": \"phd\",\n",
    "    \"phd.\": \"phd\",\n",
    "    \"high school\": \"high school\"\n",
    "}\n",
    "df['Education Level'] = df['Education Level'].replace(edu_mapping)"
   ]
  },
  {
   "cell_type": "code",
   "execution_count": 21,
   "id": "15092433",
   "metadata": {},
   "outputs": [],
   "source": [
    "# Normalize Gender\n",
    "df['Gender'] = df['Gender'].str.title().str.strip()"
   ]
  },
  {
   "cell_type": "code",
   "execution_count": 22,
   "id": "813842e7",
   "metadata": {},
   "outputs": [],
   "source": [
    "# Normalize Job Titles\n",
    "df['Job Title'] = df['Job Title'].str.title().str.strip()"
   ]
  },
  {
   "cell_type": "code",
   "execution_count": 24,
   "id": "a7223681",
   "metadata": {},
   "outputs": [
    {
     "name": "stdout",
     "output_type": "stream",
     "text": [
      "Unique Education Levels:\n",
      " Education Level\n",
      "bachelor's     3026\n",
      "master's       1861\n",
      "phd            1369\n",
      "high school     448\n",
      "Name: count, dtype: int64 \n",
      "\n",
      "Unique Genders:\n",
      " Gender\n",
      "Male      3676\n",
      "Female    3014\n",
      "Other       14\n",
      "Name: count, dtype: int64 \n",
      "\n",
      "Sample Job Titles:\n",
      " Job Title\n",
      "Software Engineer                   520\n",
      "Data Scientist                      453\n",
      "Software Engineer Manager           376\n",
      "Data Analyst                        363\n",
      "Senior Project Engineer             318\n",
      "Product Manager                     313\n",
      "Full Stack Engineer                 309\n",
      "Front End Developer                 272\n",
      "Marketing Manager                   255\n",
      "Senior Software Engineer            244\n",
      "Back End Developer                  244\n",
      "Marketing Coordinator               158\n",
      "Junior Sales Associate              142\n",
      "Financial Manager                   134\n",
      "Marketing Analyst                   132\n",
      "Software Developer                  125\n",
      "Operations Manager                  114\n",
      "Human Resources Manager             104\n",
      "Director Of Marketing                88\n",
      "Web Developer                        87\n",
      "Product Designer                     75\n",
      "Research Director                    75\n",
      "Content Marketing Manager            73\n",
      "Sales Associate                      70\n",
      "Research Scientist                   69\n",
      "Director Of Hr                       69\n",
      "Senior Product Marketing Manager     69\n",
      "Marketing Director                   64\n",
      "Sales Director                       63\n",
      "Senior Data Scientist                61\n",
      "Name: count, dtype: int64\n"
     ]
    }
   ],
   "source": [
    "# Confirm cleaned values\n",
    "print(\"Unique Education Levels:\\n\", df['Education Level'].value_counts(), \"\\n\")\n",
    "print(\"Unique Genders:\\n\", df['Gender'].value_counts(), \"\\n\")\n",
    "print(\"Sample Job Titles:\\n\", df['Job Title'].value_counts().head(30))"
   ]
  },
  {
   "cell_type": "markdown",
   "id": "95fa281a",
   "metadata": {},
   "source": [
    "Plot Salary Distribution"
   ]
  },
  {
   "cell_type": "code",
   "execution_count": 26,
   "id": "a7ebdbe1",
   "metadata": {},
   "outputs": [
    {
     "data": {
      "image/png": "[encoded data removed]",
      "text/plain": [
       "<Figure size 800x500 with 1 Axes>"
      ]
     },
     "metadata": {},
     "output_type": "display_data"
    }
   ],
   "source": [
    "plt.figure(figsize=(8, 5))\n",
    "sns.histplot(df['Salary'], kde=True, color='green')\n",
    "plt.title(\"Salary Distribution\")\n",
    "plt.xlabel(\"Salary\")\n",
    "plt.ylabel(\"Frequency\")\n",
    "plt.grid(True)\n",
    "plt.show()\n"
   ]
  },
  {
   "cell_type": "code",
   "execution_count": null,
   "id": "10a26e6f",
   "metadata": {},
   "outputs": [
    {
     "data": {
      "image/png": "[encoded data removed]",
      "text/plain": [
       "<Figure size 600x400 with 2 Axes>"
      ]
     },
     "metadata": {},
     "output_type": "display_data"
    }
   ],
   "source": [
    "# Numeric correlations\n",
    "# Correlation matrix for numeric features\n",
    "plt.figure(figsize=(6, 4))\n",
    "sns.heatmap(df[['Age', 'Years of Experience', 'Salary']].corr(), annot=True, cmap='coolwarm')\n",
    "plt.title(\"Correlation Heatmap\")\n",
    "plt.show()"
   ]
  },
  {
   "cell_type": "markdown",
   "id": "7d815e5b",
   "metadata": {},
   "source": [
    "Define Features, Target, and Train-Test Split"
   ]
  },
  {
   "cell_type": "code",
   "execution_count": 32,
   "id": "d22d27ec",
   "metadata": {},
   "outputs": [
    {
     "name": "stdout",
     "output_type": "stream",
     "text": [
      "X_train shape: (5363, 5)\n",
      "X_test shape: (1341, 5)\n"
     ]
    }
   ],
   "source": [
    "# Features and target\n",
    "X = df.drop(\"Salary\", axis=1)\n",
    "y = df[\"Salary\"]\n",
    "\n",
    "# Train-test split (80% train, 20% test)\n",
    "from sklearn.model_selection import train_test_split\n",
    "X_train, X_test, y_train, y_test = train_test_split(X, y, test_size=0.2, random_state=42)\n",
    "\n",
    "# Show shape\n",
    "print(\"X_train shape:\", X_train.shape)\n",
    "print(\"X_test shape:\", X_test.shape)\n"
   ]
  },
  {
   "cell_type": "code",
   "execution_count": 34,
   "id": "5b356379",
   "metadata": {},
   "outputs": [],
   "source": [
    "# Preprocessing & modeling\n",
    "from sklearn.model_selection import train_test_split, cross_val_score\n",
    "from sklearn.preprocessing import OneHotEncoder, StandardScaler\n",
    "from sklearn.compose import ColumnTransformer\n",
    "from sklearn.pipeline import Pipeline\n",
    "from sklearn.linear_model import LinearRegression\n",
    "from sklearn.ensemble import RandomForestRegressor\n",
    "from sklearn.tree import DecisionTreeRegressor\n",
    "from sklearn.svm import SVR\n",
    "from sklearn.metrics import r2_score, mean_squared_error\n",
    "\n",
    "# Save model\n",
    "import joblib\n",
    "\n",
    "# Disable warnings\n",
    "import warnings\n",
    "warnings.filterwarnings(\"ignore\")"
   ]
  },
  {
   "cell_type": "markdown",
   "id": "5db067c2",
   "metadata": {},
   "source": [
    "Preprocessing Pipeline"
   ]
  },
  {
   "cell_type": "code",
   "execution_count": 35,
   "id": "0d8ea05c",
   "metadata": {},
   "outputs": [],
   "source": [
    "# Define numeric and categorical columns\n",
    "num_cols = ['Age', 'Years of Experience']\n",
    "cat_cols = ['Gender', 'Education Level', 'Job Title']\n",
    "\n",
    "# Preprocessor pipeline\n",
    "preprocessor = ColumnTransformer([\n",
    "    (\"num\", StandardScaler(), num_cols),\n",
    "    (\"cat\", OneHotEncoder(handle_unknown='ignore'), cat_cols)\n",
    "])\n"
   ]
  },
  {
   "cell_type": "markdown",
   "id": "73c91f57",
   "metadata": {},
   "source": [
    "Training and Comparing Algorithms"
   ]
  },
  {
   "cell_type": "code",
   "execution_count": 36,
   "id": "f3e814c7",
   "metadata": {},
   "outputs": [
    {
     "name": "stdout",
     "output_type": "stream",
     "text": [
      "Collecting xgboost\n",
      "  Downloading xgboost-3.0.2-py3-none-win_amd64.whl.metadata (2.1 kB)\n",
      "Requirement already satisfied: numpy in d:\\projects\\employee salary prediction usnig ml\\venv\\lib\\site-packages (from xgboost) (2.3.1)\n",
      "Requirement already satisfied: scipy in d:\\projects\\employee salary prediction usnig ml\\venv\\lib\\site-packages (from xgboost) (1.16.0)\n",
      "Downloading xgboost-3.0.2-py3-none-win_amd64.whl (150.0 MB)\n",
      "   ---------------------------------------- 0.0/150.0 MB ? eta -:--:--\n",
      "   ---------------------------------------- 0.8/150.0 MB 6.8 MB/s eta 0:00:22\n",
      "    --------------------------------------- 2.4/150.0 MB 7.8 MB/s eta 0:00:20\n",
      "   - -------------------------------------- 4.5/150.0 MB 8.6 MB/s eta 0:00:17\n",
      "   - -------------------------------------- 7.1/150.0 MB 9.9 MB/s eta 0:00:15\n",
      "   -- ------------------------------------- 10.7/150.0 MB 11.7 MB/s eta 0:00:12\n",
      "   ---- ----------------------------------- 15.2/150.0 MB 13.6 MB/s eta 0:00:10\n",
      "   ----- ---------------------------------- 21.0/150.0 MB 15.8 MB/s eta 0:00:09\n",
      "   ------- -------------------------------- 27.3/150.0 MB 17.8 MB/s eta 0:00:07\n",
      "   -------- ------------------------------- 30.4/150.0 MB 17.7 MB/s eta 0:00:07\n",
      "   -------- ------------------------------- 33.0/150.0 MB 17.1 MB/s eta 0:00:07\n",
      "   --------- ------------------------------ 34.9/150.0 MB 16.2 MB/s eta 0:00:08\n",
      "   ---------- ----------------------------- 37.7/150.0 MB 16.0 MB/s eta 0:00:08\n",
      "   ---------- ----------------------------- 39.3/150.0 MB 15.4 MB/s eta 0:00:08\n",
      "   ---------- ----------------------------- 40.6/150.0 MB 14.8 MB/s eta 0:00:08\n",
      "   ----------- ---------------------------- 42.2/150.0 MB 14.1 MB/s eta 0:00:08\n",
      "   ----------- ---------------------------- 43.3/150.0 MB 13.7 MB/s eta 0:00:08\n",
      "   ------------ --------------------------- 45.1/150.0 MB 13.3 MB/s eta 0:00:08\n",
      "   ------------ --------------------------- 46.7/150.0 MB 12.9 MB/s eta 0:00:09\n",
      "   ------------ --------------------------- 48.0/150.0 MB 12.6 MB/s eta 0:00:09\n",
      "   ------------- -------------------------- 49.3/150.0 MB 12.3 MB/s eta 0:00:09\n",
      "   ------------- -------------------------- 50.9/150.0 MB 12.0 MB/s eta 0:00:09\n",
      "   ------------- -------------------------- 52.4/150.0 MB 11.8 MB/s eta 0:00:09\n",
      "   -------------- ------------------------- 54.0/150.0 MB 11.6 MB/s eta 0:00:09\n",
      "   -------------- ------------------------- 55.3/150.0 MB 11.5 MB/s eta 0:00:09\n",
      "   --------------- ------------------------ 56.9/150.0 MB 11.3 MB/s eta 0:00:09\n",
      "   --------------- ------------------------ 58.5/150.0 MB 11.1 MB/s eta 0:00:09\n",
      "   ---------------- ----------------------- 60.0/150.0 MB 11.0 MB/s eta 0:00:09\n",
      "   ---------------- ----------------------- 61.6/150.0 MB 10.8 MB/s eta 0:00:09\n",
      "   ---------------- ----------------------- 63.4/150.0 MB 10.8 MB/s eta 0:00:09\n",
      "   ----------------- ---------------------- 65.0/150.0 MB 10.7 MB/s eta 0:00:08\n",
      "   ----------------- ---------------------- 66.8/150.0 MB 10.6 MB/s eta 0:00:08\n",
      "   ------------------ --------------------- 68.7/150.0 MB 10.6 MB/s eta 0:00:08\n",
      "   ------------------ --------------------- 70.8/150.0 MB 10.5 MB/s eta 0:00:08\n",
      "   ------------------- -------------------- 72.6/150.0 MB 10.5 MB/s eta 0:00:08\n",
      "   ------------------- -------------------- 74.2/150.0 MB 10.4 MB/s eta 0:00:08\n",
      "   -------------------- ------------------- 76.3/150.0 MB 10.4 MB/s eta 0:00:08\n",
      "   -------------------- ------------------- 78.1/150.0 MB 10.4 MB/s eta 0:00:07\n",
      "   --------------------- ------------------ 80.0/150.0 MB 10.3 MB/s eta 0:00:07\n",
      "   --------------------- ------------------ 82.1/150.0 MB 10.3 MB/s eta 0:00:07\n",
      "   ---------------------- ----------------- 84.1/150.0 MB 10.3 MB/s eta 0:00:07\n",
      "   ----------------------- ---------------- 86.2/150.0 MB 10.3 MB/s eta 0:00:07\n",
      "   ----------------------- ---------------- 88.1/150.0 MB 10.3 MB/s eta 0:00:07\n",
      "   ------------------------ --------------- 90.2/150.0 MB 10.3 MB/s eta 0:00:06\n",
      "   ------------------------ --------------- 92.3/150.0 MB 10.2 MB/s eta 0:00:06\n",
      "   ------------------------- -------------- 94.1/150.0 MB 10.2 MB/s eta 0:00:06\n",
      "   ------------------------- -------------- 96.2/150.0 MB 10.2 MB/s eta 0:00:06\n",
      "   -------------------------- ------------- 98.3/150.0 MB 10.2 MB/s eta 0:00:06\n",
      "   -------------------------- ------------ 100.7/150.0 MB 10.2 MB/s eta 0:00:05\n",
      "   -------------------------- ------------ 103.0/150.0 MB 10.2 MB/s eta 0:00:05\n",
      "   --------------------------- ----------- 105.1/150.0 MB 10.2 MB/s eta 0:00:05\n",
      "   --------------------------- ----------- 107.2/150.0 MB 10.2 MB/s eta 0:00:05\n",
      "   ---------------------------- ---------- 109.6/150.0 MB 10.3 MB/s eta 0:00:04\n",
      "   ----------------------------- --------- 112.2/150.0 MB 10.3 MB/s eta 0:00:04\n",
      "   ----------------------------- --------- 114.6/150.0 MB 10.3 MB/s eta 0:00:04\n",
      "   ------------------------------ -------- 116.9/150.0 MB 10.3 MB/s eta 0:00:04\n",
      "   ------------------------------ -------- 119.0/150.0 MB 10.3 MB/s eta 0:00:03\n",
      "   ------------------------------- ------- 121.1/150.0 MB 10.3 MB/s eta 0:00:03\n",
      "   -------------------------------- ------ 123.7/150.0 MB 10.4 MB/s eta 0:00:03\n",
      "   -------------------------------- ------ 126.1/150.0 MB 10.4 MB/s eta 0:00:03\n",
      "   --------------------------------- ----- 128.2/150.0 MB 10.4 MB/s eta 0:00:03\n",
      "   ---------------------------------- ---- 130.8/150.0 MB 10.4 MB/s eta 0:00:02\n",
      "   ---------------------------------- ---- 133.2/150.0 MB 10.4 MB/s eta 0:00:02\n",
      "   ----------------------------------- --- 135.5/150.0 MB 10.4 MB/s eta 0:00:02\n",
      "   ----------------------------------- --- 138.1/150.0 MB 10.5 MB/s eta 0:00:02\n",
      "   ------------------------------------ -- 140.8/150.0 MB 10.5 MB/s eta 0:00:01\n",
      "   ------------------------------------- - 143.7/150.0 MB 10.6 MB/s eta 0:00:01\n",
      "   --------------------------------------  146.3/150.0 MB 10.6 MB/s eta 0:00:01\n",
      "   --------------------------------------  148.6/150.0 MB 10.6 MB/s eta 0:00:01\n",
      "   --------------------------------------  149.9/150.0 MB 10.6 MB/s eta 0:00:01\n",
      "   --------------------------------------- 150.0/150.0 MB 10.5 MB/s eta 0:00:00\n",
      "Installing collected packages: xgboost\n",
      "Successfully installed xgboost-3.0.2\n",
      "Note: you may need to restart the kernel to use updated packages.\n"
     ]
    }
   ],
   "source": [
    "pip install xgboost"
   ]
  },
  {
   "cell_type": "code",
   "execution_count": 39,
   "id": "7ba92435",
   "metadata": {},
   "outputs": [
    {
     "name": "stdout",
     "output_type": "stream",
     "text": [
      "Linear Regression: R² = 0.8361\n",
      "Ridge Regression: R² = 0.8359\n",
      "Lasso Regression: R² = 0.8361\n",
      "ElasticNet: R² = 0.6421\n",
      "Decision Tree: R² = 0.9676\n",
      "Random Forest: R² = 0.9716\n",
      "Gradient Boosting: R² = 0.9102\n",
      "XGBoost: R² = 0.9632\n",
      "KNN Regressor: R² = 0.9518\n",
      "SVR: R² = 0.0121\n"
     ]
    }
   ],
   "source": [
    "from sklearn.linear_model import LinearRegression, Ridge, Lasso, ElasticNet\n",
    "from sklearn.ensemble import RandomForestRegressor, GradientBoostingRegressor\n",
    "from sklearn.tree import DecisionTreeRegressor\n",
    "from sklearn.svm import SVR\n",
    "from sklearn.neighbors import KNeighborsRegressor\n",
    "from sklearn.model_selection import train_test_split\n",
    "from sklearn.pipeline import Pipeline\n",
    "from sklearn.metrics import r2_score\n",
    "from xgboost import XGBRegressor\n",
    "import numpy as np\n",
    "import joblib\n",
    "\n",
    "# Define models\n",
    "models = {\n",
    "    \"Linear Regression\": LinearRegression(),\n",
    "    \"Ridge Regression\": Ridge(),\n",
    "    \"Lasso Regression\": Lasso(),\n",
    "    \"ElasticNet\": ElasticNet(),\n",
    "    \"Decision Tree\": DecisionTreeRegressor(),\n",
    "    \"Random Forest\": RandomForestRegressor(),\n",
    "    \"Gradient Boosting\": GradientBoostingRegressor(),\n",
    "    \"XGBoost\": XGBRegressor(objective='reg:squarederror'),\n",
    "    \"KNN Regressor\": KNeighborsRegressor(),\n",
    "    \"SVR\": SVR()\n",
    "}\n",
    "\n",
    "# Train-test split (ensure same as before)\n",
    "X_train, X_test, y_train, y_test = train_test_split(X, y, test_size=0.2, random_state=42)\n",
    "\n",
    "# Dictionary to hold R² test scores\n",
    "model_scores = {}\n",
    "\n",
    "# Evaluate each model on test set\n",
    "for name, model in models.items():\n",
    "    pipeline = Pipeline(steps=[\n",
    "        (\"preprocessor\", preprocessor),\n",
    "        (\"regressor\", model)\n",
    "    ])\n",
    "    \n",
    "    pipeline.fit(X_train, y_train)\n",
    "    preds = pipeline.predict(X_test)\n",
    "    r2 = r2_score(y_test, preds)\n",
    "    model_scores[name] = r2\n",
    "    print(f\"{name}: R² = {r2:.4f}\")\n",
    "\n"
   ]
  },
  {
   "cell_type": "code",
   "execution_count": 40,
   "id": "b6fe4344",
   "metadata": {},
   "outputs": [
    {
     "name": "stdout",
     "output_type": "stream",
     "text": [
      "\n",
      "✅ Best model: Random Forest with R² = 0.9716\n"
     ]
    }
   ],
   "source": [
    "# Identify best model\n",
    "best_model_name = max(model_scores, key=model_scores.get)\n",
    "best_score = model_scores[best_model_name]\n",
    "print(f\"\\n✅ Best model: {best_model_name} with R² = {best_score:.4f}\")\n"
   ]
  },
  {
   "cell_type": "code",
   "execution_count": 42,
   "id": "b10126ab",
   "metadata": {},
   "outputs": [
    {
     "name": "stdout",
     "output_type": "stream",
     "text": [
      "📦 Saved best model as 'salary_prediction_model.pkl'\n"
     ]
    }
   ],
   "source": [
    "# Save the best model\n",
    "final_pipeline = Pipeline(steps=[\n",
    "    (\"preprocessor\", preprocessor),\n",
    "    (\"regressor\", models[best_model_name])\n",
    "])\n",
    "final_pipeline.fit(X_train, y_train)\n",
    "joblib.dump(final_pipeline, \"salary_prediction_model.pkl\")\n",
    "print(\"📦 Saved best model as 'salary_prediction_model.pkl'\")"
   ]
  },
  {
   "cell_type": "markdown",
   "id": "0f422c93",
   "metadata": {},
   "source": [
    "Load the Saved Model and Predict Salary"
   ]
  },
  {
   "cell_type": "code",
   "execution_count": 43,
   "id": "8bc9129f",
   "metadata": {},
   "outputs": [],
   "source": [
    "import pandas as pd\n",
    "import joblib  # or use pickle if you saved using pickle\n"
   ]
  },
  {
   "cell_type": "code",
   "execution_count": 44,
   "id": "aa32e790",
   "metadata": {},
   "outputs": [],
   "source": [
    "model = joblib.load('salary_prediction_model.pkl')"
   ]
  },
  {
   "cell_type": "code",
   "execution_count": 45,
   "id": "8dfd8be6",
   "metadata": {},
   "outputs": [],
   "source": [
    "# Sample input for prediction (same structure as training data)\n",
    "new_employee = {\n",
    "    'Age': [28],\n",
    "    'Gender': ['Male'],\n",
    "    'Education Level': [\"Master's Degree\"],\n",
    "    'Job Title': ['Data Scientist'],\n",
    "    'Years of Experience': [4]\n",
    "}\n",
    "\n",
    "# Convert to DataFrame\n",
    "new_employee_df = pd.DataFrame(new_employee)"
   ]
  },
  {
   "cell_type": "code",
   "execution_count": 46,
   "id": "796a93e9",
   "metadata": {},
   "outputs": [
    {
     "name": "stdout",
     "output_type": "stream",
     "text": [
      "Predicted Salary: ₹117,529.48\n"
     ]
    }
   ],
   "source": [
    "predicted_salary = model.predict(new_employee_df)[0]\n",
    "print(f\"Predicted Salary: ₹{predicted_salary:,.2f}\") # This will output the predicted salary for the new employee"
   ]
  }
 ],
 "metadata": {
  "kernelspec": {
   "display_name": "venv",
   "language": "python",
   "name": "python3"
  },
  "language_info": {
   "codemirror_mode": {
    "name": "ipython",
    "version": 3
   },
   "file_extension": ".py",
   "mimetype": "text/x-python",
   "name": "python",
   "nbconvert_exporter": "python",
   "pygments_lexer": "ipython3",
   "version": "3.13.4"
  }
 },
 "nbformat": 4,
 "nbformat_minor": 5
}
